{
 "cells": [
  {
   "cell_type": "markdown",
   "id": "9761c901",
   "metadata": {},
   "source": [
    "# student management system"
   ]
  },
  {
   "cell_type": "code",
   "execution_count": null,
   "id": "ab02612f",
   "metadata": {},
   "outputs": [
    {
     "name": "stdout",
     "output_type": "stream",
     "text": [
      "Please select an option below:\n",
      "1. Accept\n",
      "2. Display\n",
      "3. Search\n",
      "4. Delete\n",
      "5. Update\n"
     ]
    }
   ],
   "source": [
    "class student:\n",
    "    def __init__(self):\n",
    "        self.name = []\n",
    "        self.rollno = []\n",
    "        self.mark1 = []\n",
    "        self.mark2 = []\n",
    "\n",
    "    def accept(self):\n",
    "        name = input(\"Enter the name: \")\n",
    "        rollno = int(input(\"Enter the rollno: \"))\n",
    "        mark1 = int(input(\"Enter mark1: \"))\n",
    "        mark2 = int(input(\"Enter mark2: \"))\n",
    "        self.name.append(name)\n",
    "        self.rollno.append(rollno)\n",
    "        self.mark1.append(mark1)\n",
    "        self.mark2.append(mark2)\n",
    "\n",
    "    def display(self):\n",
    "        for i in range(len(self.rollno)):\n",
    "            print(f\"Name: {self.name[i]}, Rollno: {self.rollno[i]}, Mark1: {self.mark1[i]}, Mark2: {self.mark2[i]}\")\n",
    "\n",
    "    def search(self):\n",
    "        roll = int(input(\"Enter the rollno you want to search: \"))\n",
    "        if roll in self.rollno:\n",
    "            r_indx = self.rollno.index(roll)\n",
    "            print(f\"Name: {self.name[r_indx]}, Rollno: {self.rollno[r_indx]}, Mark1: {self.mark1[r_indx]}, Mark2: {self.mark2[r_indx]}\")\n",
    "        else:\n",
    "            print(\"Invalid data\")\n",
    "\n",
    "    def delete(self):\n",
    "        roll = int(input(\"Enter the rollno you want to delete: \"))\n",
    "        if roll in self.rollno:\n",
    "            r_indx = self.rollno.index(roll)\n",
    "            self.name.pop(r_indx)\n",
    "            self.rollno.pop(r_indx)\n",
    "            self.mark1.pop(r_indx)\n",
    "            self.mark2.pop(r_indx)\n",
    "            print(\"Successfully deleted\")\n",
    "        else:\n",
    "            print(\"Invalid data\")\n",
    "\n",
    "    def update(self):\n",
    "        old_roll = int(input(\"Enter the rollno you want to change: \"))\n",
    "        if old_roll in self.rollno:\n",
    "            r_indx = self.rollno.index(old_roll)\n",
    "            new_roll = int(input(\"Enter the new rollno you want to update: \"))\n",
    "            self.rollno[r_indx] = new_roll\n",
    "        else:\n",
    "            print('Invalid data')\n",
    "\n",
    "s = student()\n",
    "\n",
    "while True:\n",
    "    print(\"Please select an option below:\")\n",
    "    print(\"1. Accept\\n2. Display\\n3. Search\\n4. Delete\\n5. Update\")\n",
    "    choice = int(input())\n",
    "\n",
    "    if choice == 1:\n",
    "        s.accept()\n",
    "    elif choice == 2:\n",
    "        s.display()\n",
    "    elif choice == 3:\n",
    "        s.search()\n",
    "    elif choice == 4:\n",
    "        s.delete()\n",
    "    elif choice == 5:\n",
    "        s.update()\n",
    "    else:\n",
    "        print(\"Invalid choice\")\n",
    "\n",
    "    if input(\"Do you want to continue? (yes/no): \").lower() != 'yes':\n",
    "        break\n"
   ]
  }
 ],
 "metadata": {
  "kernelspec": {
   "display_name": "Python 3 (ipykernel)",
   "language": "python",
   "name": "python3"
  },
  "language_info": {
   "codemirror_mode": {
    "name": "ipython",
    "version": 3
   },
   "file_extension": ".py",
   "mimetype": "text/x-python",
   "name": "python",
   "nbconvert_exporter": "python",
   "pygments_lexer": "ipython3",
   "version": "3.9.13"
  }
 },
 "nbformat": 4,
 "nbformat_minor": 5
}
